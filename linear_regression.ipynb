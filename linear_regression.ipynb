{
 "cells": [
  {
   "cell_type": "code",
   "execution_count": 1,
   "metadata": {
    "collapsed": true
   },
   "outputs": [],
   "source": [
    "# A linear regression learning algorithm example using TensorFlow library.\n",
    "\n",
    "# Author: Aymeric Damien\n",
    "# Project: https://github.com/aymericdamien/TensorFlow-Examples/"
   ]
  },
  {
   "cell_type": "code",
   "execution_count": 2,
   "metadata": {
    "collapsed": true
   },
   "outputs": [],
   "source": [
    "import tensorflow as tf\n",
    "import numpy\n",
    "import matplotlib.pyplot as plt\n",
    "rng = numpy.random"
   ]
  },
  {
   "cell_type": "code",
   "execution_count": 3,
   "metadata": {
    "collapsed": true
   },
   "outputs": [],
   "source": [
    "# Parameters\n",
    "learning_rate = 0.01\n",
    "training_epochs = 2000\n",
    "display_step = 50"
   ]
  },
  {
   "cell_type": "code",
   "execution_count": 4,
   "metadata": {
    "collapsed": true
   },
   "outputs": [],
   "source": [
    "# Training Data\n",
    "train_X = numpy.asarray([3.3,4.4,5.5,6.71,6.93,4.168,9.779,6.182,7.59,2.167,7.042,10.791,5.313,7.997,5.654,9.27,3.1])\n",
    "train_Y = numpy.asarray([1.7,2.76,2.09,3.19,1.694,1.573,3.366,2.596,2.53,1.221,2.827,3.465,1.65,2.904,2.42,2.94,1.3])\n",
    "n_samples = train_X.shape[0]"
   ]
  },
  {
   "cell_type": "code",
   "execution_count": 5,
   "metadata": {
    "collapsed": true
   },
   "outputs": [],
   "source": [
    "# tf Graph Input\n",
    "X = tf.placeholder(\"float\")\n",
    "Y = tf.placeholder(\"float\")"
   ]
  },
  {
   "cell_type": "code",
   "execution_count": 6,
   "metadata": {
    "collapsed": true
   },
   "outputs": [],
   "source": [
    "# Create Model\n",
    "\n",
    "# Set model weights\n",
    "W = tf.Variable(rng.randn(), name=\"weight\")\n",
    "b = tf.Variable(rng.randn(), name=\"bias\")"
   ]
  },
  {
   "cell_type": "code",
   "execution_count": 7,
   "metadata": {
    "collapsed": true
   },
   "outputs": [],
   "source": [
    "# Construct a linear model\n",
    "activation = tf.add(tf.mul(X, W), b)"
   ]
  },
  {
   "cell_type": "code",
   "execution_count": 8,
   "metadata": {
    "collapsed": true
   },
   "outputs": [],
   "source": [
    "# Minimize the squared errors\n",
    "cost = tf.reduce_sum(tf.pow(activation-Y, 2))/(2*n_samples) #L2 loss\n",
    "optimizer = tf.train.GradientDescentOptimizer(learning_rate).minimize(cost) #Gradient descent"
   ]
  },
  {
   "cell_type": "code",
   "execution_count": 9,
   "metadata": {
    "collapsed": true
   },
   "outputs": [],
   "source": [
    "# Initializing the variables\n",
    "init = tf.initialize_all_variables()"
   ]
  },
  {
   "cell_type": "code",
   "execution_count": 11,
   "metadata": {
    "collapsed": false
   },
   "outputs": [
    {
     "name": "stdout",
     "output_type": "stream",
     "text": [
      "Epoch: 0001 cost= 1.239826083 W= 0.78545 b= -1.65242\n",
      "Epoch: 0051 cost= 0.413886935 W= 0.57397 b= -1.53208\n",
      "Epoch: 0101 cost= 0.374978393 W= 0.554678 b= -1.39329\n",
      "Epoch: 0151 cost= 0.340561360 W= 0.536534 b= -1.26276\n",
      "Epoch: 0201 cost= 0.310118377 W= 0.519468 b= -1.13999\n",
      "Epoch: 0251 cost= 0.283190042 W= 0.503417 b= -1.02452\n",
      "Epoch: 0301 cost= 0.259370983 W= 0.488321 b= -0.915922\n",
      "Epoch: 0351 cost= 0.238302097 W= 0.474123 b= -0.813781\n",
      "Epoch: 0401 cost= 0.219666123 W= 0.460769 b= -0.717715\n",
      "Epoch: 0451 cost= 0.203181967 W= 0.448209 b= -0.627362\n",
      "Epoch: 0501 cost= 0.188601419 W= 0.436397 b= -0.542383\n",
      "Epoch: 0551 cost= 0.175704584 W= 0.425287 b= -0.462458\n",
      "Epoch: 0601 cost= 0.164297163 W= 0.414837 b= -0.387286\n",
      "Epoch: 0651 cost= 0.154207110 W= 0.40501 b= -0.316585\n",
      "Epoch: 0701 cost= 0.145282403 W= 0.395766 b= -0.250089\n",
      "Epoch: 0751 cost= 0.137388527 W= 0.387073 b= -0.187548\n",
      "Epoch: 0801 cost= 0.130406424 W= 0.378896 b= -0.128727\n",
      "Epoch: 0851 cost= 0.124230795 W= 0.371206 b= -0.0734041\n",
      "Epoch: 0901 cost= 0.118768565 W= 0.363973 b= -0.0213714\n",
      "Epoch: 0951 cost= 0.113937356 W= 0.35717 b= 0.0275667\n",
      "Epoch: 1001 cost= 0.109664284 W= 0.350772 b= 0.0735942\n",
      "Epoch: 1051 cost= 0.105884917 W= 0.344755 b= 0.116884\n",
      "Epoch: 1101 cost= 0.102542222 W= 0.339095 b= 0.1576\n",
      "Epoch: 1151 cost= 0.099585801 W= 0.333772 b= 0.195894\n",
      "Epoch: 1201 cost= 0.096971028 W= 0.328765 b= 0.23191\n",
      "Epoch: 1251 cost= 0.094658449 W= 0.324057 b= 0.265784\n",
      "Epoch: 1301 cost= 0.092613161 W= 0.319628 b= 0.297644\n",
      "Epoch: 1351 cost= 0.090804279 W= 0.315463 b= 0.327609\n",
      "Epoch: 1401 cost= 0.089204535 W= 0.311545 b= 0.355792\n",
      "Epoch: 1451 cost= 0.087789707 W= 0.30786 b= 0.382299\n",
      "Epoch: 1501 cost= 0.086538509 W= 0.304395 b= 0.407229\n",
      "Epoch: 1551 cost= 0.085432008 W= 0.301136 b= 0.430676\n",
      "Epoch: 1601 cost= 0.084453486 W= 0.29807 b= 0.452729\n",
      "Epoch: 1651 cost= 0.083588123 W= 0.295187 b= 0.47347\n",
      "Epoch: 1701 cost= 0.082822882 W= 0.292475 b= 0.492978\n",
      "Epoch: 1751 cost= 0.082146227 W= 0.289925 b= 0.511325\n",
      "Epoch: 1801 cost= 0.081547849 W= 0.287526 b= 0.528581\n",
      "Epoch: 1851 cost= 0.081018731 W= 0.28527 b= 0.544811\n",
      "Epoch: 1901 cost= 0.080550864 W= 0.283148 b= 0.560076\n",
      "Epoch: 1951 cost= 0.080137156 W= 0.281153 b= 0.574434\n",
      "Optimization Finished!\n",
      "cost= 0.0797782 W= 0.279312 b= 0.587676\n"
     ]
    }
   ],
   "source": [
    "# Launch the graph\n",
    "with tf.Session() as sess:\n",
    "    sess.run(init)\n",
    "\n",
    "    # Fit all training data\n",
    "    for epoch in range(training_epochs):\n",
    "        for (x, y) in zip(train_X, train_Y):\n",
    "            sess.run(optimizer, feed_dict={X: x, Y: y})\n",
    "\n",
    "        #Display logs per epoch step\n",
    "        if epoch % display_step == 0:\n",
    "            print (\"Epoch:\", '%04d' % (epoch+1), \"cost=\", \\\n",
    "                \"{:.9f}\".format(sess.run(cost, feed_dict={X: train_X, Y:train_Y})), \\\n",
    "                \"W=\", sess.run(W), \"b=\", sess.run(b))\n",
    "\n",
    "    print (\"Optimization Finished!\")\n",
    "    print (\"cost=\", sess.run(cost, feed_dict={X: train_X, Y: train_Y}), \\\n",
    "          \"W=\", sess.run(W), \"b=\", sess.run(b))\n",
    "\n",
    "    #Graphic display\n",
    "    plt.plot(train_X, train_Y, 'ro', label='Original data')\n",
    "    plt.plot(train_X, sess.run(W) * train_X + sess.run(b), label='Fitted line')\n",
    "    plt.legend()\n",
    "    plt.show()"
   ]
  },
  {
   "cell_type": "code",
   "execution_count": null,
   "metadata": {
    "collapsed": false
   },
   "outputs": [],
   "source": [
    "from IPython.display import Image\n",
    "Image(filename='linearreg.png')"
   ]
  }
 ],
 "metadata": {
  "kernelspec": {
   "display_name": "Python 3",
   "language": "python",
   "name": "python3"
  },
  "language_info": {
   "codemirror_mode": {
    "name": "ipython",
    "version": 3
   },
   "file_extension": ".py",
   "mimetype": "text/x-python",
   "name": "python",
   "nbconvert_exporter": "python",
   "pygments_lexer": "ipython3",
   "version": "3.5.1"
  }
 },
 "nbformat": 4,
 "nbformat_minor": 0
}
